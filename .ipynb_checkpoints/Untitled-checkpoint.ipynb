{
 "cells": [
  {
   "cell_type": "code",
   "execution_count": 1,
   "metadata": {},
   "outputs": [],
   "source": [
    "from __future__ import division\n",
    "from itertools import izip, count\n",
    "# import matplotlib.pyplot as plt\n",
    "import plotly.plotly as py\n",
    "from numpy import linspace, loadtxt, ones, convolve\n",
    "import numpy as np\n",
    "import pandas as pd\n",
    "import collections\n",
    "from random import randint\n",
    "from matplotlib import style\n",
    "style.use('fivethirtyeight')\n",
    "%matplotlib inline"
   ]
  },
  {
   "cell_type": "code",
   "execution_count": 2,
   "metadata": {},
   "outputs": [
    {
     "data": {
      "text/html": [
       "<div>\n",
       "<table border=\"1\" class=\"dataframe\">\n",
       "  <thead>\n",
       "    <tr style=\"text-align: right;\">\n",
       "      <th></th>\n",
       "      <th>high</th>\n",
       "      <th>low</th>\n",
       "      <th>time</th>\n",
       "      <th>volumefrom</th>\n",
       "      <th>close</th>\n",
       "      <th>open</th>\n",
       "    </tr>\n",
       "    <tr>\n",
       "      <th>volumeto</th>\n",
       "      <th></th>\n",
       "      <th></th>\n",
       "      <th></th>\n",
       "      <th></th>\n",
       "      <th></th>\n",
       "      <th></th>\n",
       "    </tr>\n",
       "  </thead>\n",
       "  <tbody>\n",
       "    <tr>\n",
       "      <th>2.698782e+08</th>\n",
       "      <td>4422.15</td>\n",
       "      <td>4296.93</td>\n",
       "      <td>1507248000</td>\n",
       "      <td>61692.93</td>\n",
       "      <td>4371.94</td>\n",
       "      <td>4321.44</td>\n",
       "    </tr>\n",
       "    <tr>\n",
       "      <th>1.763320e+08</th>\n",
       "      <td>4472.92</td>\n",
       "      <td>4319.48</td>\n",
       "      <td>1507334400</td>\n",
       "      <td>40202.08</td>\n",
       "      <td>4435.81</td>\n",
       "      <td>4371.94</td>\n",
       "    </tr>\n",
       "    <tr>\n",
       "      <th>3.230640e+08</th>\n",
       "      <td>4622.87</td>\n",
       "      <td>4419.36</td>\n",
       "      <td>1507420800</td>\n",
       "      <td>71366.95</td>\n",
       "      <td>4611.70</td>\n",
       "      <td>4435.81</td>\n",
       "    </tr>\n",
       "    <tr>\n",
       "      <th>5.185868e+08</th>\n",
       "      <td>4875.38</td>\n",
       "      <td>4556.15</td>\n",
       "      <td>1507507200</td>\n",
       "      <td>110191.77</td>\n",
       "      <td>4777.49</td>\n",
       "      <td>4611.70</td>\n",
       "    </tr>\n",
       "    <tr>\n",
       "      <th>4.757177e+08</th>\n",
       "      <td>4930.00</td>\n",
       "      <td>4722.81</td>\n",
       "      <td>1507593600</td>\n",
       "      <td>98485.00</td>\n",
       "      <td>4763.36</td>\n",
       "      <td>4777.49</td>\n",
       "    </tr>\n",
       "  </tbody>\n",
       "</table>\n",
       "</div>"
      ],
      "text/plain": [
       "                 high      low        time  volumefrom    close     open\n",
       "volumeto                                                                \n",
       "2.698782e+08  4422.15  4296.93  1507248000    61692.93  4371.94  4321.44\n",
       "1.763320e+08  4472.92  4319.48  1507334400    40202.08  4435.81  4371.94\n",
       "3.230640e+08  4622.87  4419.36  1507420800    71366.95  4611.70  4435.81\n",
       "5.185868e+08  4875.38  4556.15  1507507200   110191.77  4777.49  4611.70\n",
       "4.757177e+08  4930.00  4722.81  1507593600    98485.00  4763.36  4777.49"
      ]
     },
     "execution_count": 2,
     "metadata": {},
     "output_type": "execute_result"
    }
   ],
   "source": [
    "data_as_frame = pd.DataFrame.from_csv(\"quotes.csv\")\n",
    "data_as_frame.head()"
   ]
  },
  {
   "cell_type": "code",
   "execution_count": 3,
   "metadata": {},
   "outputs": [],
   "source": [
    "def moving_average(data, window_size):\n",
    "    \"\"\" Computes moving average using discrete linear convolution of two one dimensional sequences.\n",
    "    Args:\n",
    "    -----\n",
    "            data (pandas.Series): independent variable\n",
    "            window_size (int): rolling window size\n",
    "\n",
    "    Returns:\n",
    "    --------\n",
    "            ndarray of linear convolution\n",
    "\n",
    "    References:\n",
    "    ------------\n",
    "    [1] Wikipedia, \"Convolution\", http://en.wikipedia.org/wiki/Convolution.\n",
    "    [2] API Reference: https://docs.scipy.org/doc/numpy/reference/generated/numpy.convolve.html\n",
    "\n",
    "    \"\"\"\n",
    "    window = np.ones(int(window_size))/float(window_size)\n",
    "    return np.convolve(data, window, 'same')"
   ]
  },
  {
   "cell_type": "code",
   "execution_count": 5,
   "metadata": {},
   "outputs": [],
   "source": [
    "def explain_anomalies(y, window_size, sigma=1.0):\n",
    "    \"\"\" Helps in exploring the anamolies using stationary standard deviation\n",
    "    Args:\n",
    "    -----\n",
    "        y (pandas.Series): independent variable\n",
    "        window_size (int): rolling window size\n",
    "        sigma (int): value for standard deviation\n",
    "\n",
    "    Returns:\n",
    "    --------\n",
    "        a dict (dict of 'standard_deviation': int, 'anomalies_dict': (index: value))\n",
    "        containing information about the points indentified as anomalies\n",
    "\n",
    "    \"\"\"\n",
    "    avg = moving_average(y, window_size).tolist()\n",
    "    residual = y - avg\n",
    "    # Calculate the variation in the distribution of the residual\n",
    "    std = np.std(residual)\n",
    "    return {'standard_deviation': round(std, 3),\n",
    "            'anomalies_dict': collections.OrderedDict([(index, y_i) for\n",
    "                                                       index, y_i, avg_i in izip(count(), y, avg)\n",
    "              if (y_i > avg_i + (sigma*std)) | (y_i < avg_i - (sigma*std))])}"
   ]
  },
  {
   "cell_type": "code",
   "execution_count": 6,
   "metadata": {},
   "outputs": [],
   "source": [
    "def explain_anomalies_rolling_std(y, window_size, sigma=1.0):\n",
    "    \"\"\" Helps in exploring the anamolies using rolling standard deviation\n",
    "    Args:\n",
    "    -----\n",
    "        y (pandas.Series): independent variable\n",
    "        window_size (int): rolling window size\n",
    "        sigma (int): value for standard deviation\n",
    "\n",
    "    Returns:\n",
    "    --------\n",
    "        a dict (dict of 'standard_deviation': int, 'anomalies_dict': (index: value))\n",
    "        containing information about the points indentified as anomalies\n",
    "    \"\"\"\n",
    "    avg = moving_average(y, window_size)\n",
    "    avg_list = avg.tolist()\n",
    "    residual = y - avg\n",
    "    # Calculate the variation in the distribution of the residual\n",
    "    testing_std = pd.rolling_std(residual, window_size)\n",
    "    testing_std_as_df = pd.DataFrame(testing_std)\n",
    "    rolling_std = testing_std_as_df.replace(np.nan,\n",
    "                                  testing_std_as_df.ix[window_size - 1]).round(3).iloc[:,0].tolist()\n",
    "    std = np.std(residual)\n",
    "    return {'stationary standard_deviation': round(std, 3),\n",
    "            'anomalies_dict': collections.OrderedDict([(index, y_i)\n",
    "                                                       for index, y_i, avg_i, rs_i in izip(count(),\n",
    "                                                                                           y, avg_list, rolling_std)\n",
    "              if (y_i > avg_i + (sigma * rs_i)) | (y_i < avg_i - (sigma * rs_i))])}\n"
   ]
  },
  {
   "cell_type": "code",
   "execution_count": 15,
   "metadata": {},
   "outputs": [],
   "source": [
    "def plot_results(x, y, window_size, sigma_value=1,\n",
    "                 text_xlabel=\"X Axis\", text_ylabel=\"Y Axis\", applying_rolling_std=False):\n",
    "    \"\"\" Helps in generating the plot and flagging the anamolies.\n",
    "        Supports both moving and stationary standard deviation. Use the 'applying_rolling_std' to switch\n",
    "        between the two.\n",
    "    Args:\n",
    "    -----\n",
    "        x (pandas.Series): dependent variable\n",
    "        y (pandas.Series): independent variable\n",
    "        window_size (int): rolling window size\n",
    "        sigma_value (int): value for standard deviation\n",
    "        text_xlabel (str): label for annotating the X Axis\n",
    "        text_ylabel (str): label for annotatin the Y Axis\n",
    "        applying_rolling_std (boolean): True/False for using rolling vs stationary standard deviation\n",
    "    \"\"\"\n",
    "    plt.figure(figsize=(15, 8))\n",
    "#     plt.plot(x, y, \"k.\")\n",
    "    y_av = moving_average(y, window_size)\n",
    "    plt.plot(x, y_av, color='green')\n",
    "    plt.xlim(0, 1000)\n",
    "    plt.xlabel(text_xlabel)\n",
    "    plt.ylabel(text_ylabel)\n",
    "\n",
    "    # Query for the anomalies and plot the same\n",
    "    events = {}\n",
    "    if applying_rolling_std:\n",
    "        events = explain_anomalies_rolling_std(y, window_size=window_size, sigma=sigma_value)\n",
    "    else:\n",
    "        events = explain_anomalies(y, window_size=window_size, sigma=sigma_value)\n",
    "\n",
    "    x_anomaly = np.fromiter(events['anomalies_dict'].iterkeys(), dtype=int, count=len(events['anomalies_dict']))\n",
    "    y_anomaly = np.fromiter(events['anomalies_dict'].itervalues(), dtype=float,\n",
    "                                            count=len(events['anomalies_dict']))\n",
    "    plt.plot(x_anomaly, y_anomaly, \"r*\", markersize=12)\n",
    "\n",
    "    # add grid and lines and enable the plot\n",
    "    plt.grid(True)\n",
    "    plt.show()"
   ]
  },
  {
   "cell_type": "code",
   "execution_count": 16,
   "metadata": {},
   "outputs": [
    {
     "data": {
      "image/png": "[encoded data removed]",
      "text/plain": [
       "<Figure size 1080x576 with 1 Axes>"
      ]
     },
     "metadata": {},
     "output_type": "display_data"
    },
    {
     "name": "stdout",
     "output_type": "stream",
     "text": [
      "Information about the anomalies model:{'anomalies_dict': OrderedDict([(0, 4371.9399999999996), (62, 16850.310000000001), (199, 8968.25), (200, 9574.6900000000005)]), 'standard_deviation': 547.052}\n"
     ]
    }
   ],
   "source": [
    "x = data_as_frame['time']\n",
    "Y = data_as_frame['close']\n",
    "\n",
    "# plot the results\n",
    "plot_results(x, y=Y, window_size=10, text_xlabel=\"Time\", sigma_value=3,\n",
    "             text_ylabel=\"Quotes\")\n",
    "events = explain_anomalies(Y, window_size=5, sigma=3)\n",
    "\n",
    "# Display the anomaly dict\n",
    "print(\"Information about the anomalies model:{}\".format(events))"
   ]
  },
  {
   "cell_type": "code",
   "execution_count": null,
   "metadata": {},
   "outputs": [],
   "source": []
  }
 ],
 "metadata": {
  "kernelspec": {
   "display_name": "Python 2",
   "language": "python",
   "name": "python2"
  },
  "language_info": {
   "codemirror_mode": {
    "name": "ipython",
    "version": 2
   },
   "file_extension": ".py",
   "mimetype": "text/x-python",
   "name": "python",
   "nbconvert_exporter": "python",
   "pygments_lexer": "ipython2",
   "version": "2.7.6"
  }
 },
 "nbformat": 4,
 "nbformat_minor": 2
}
